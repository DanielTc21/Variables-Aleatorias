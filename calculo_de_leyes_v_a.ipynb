{
  "nbformat": 4,
  "nbformat_minor": 0,
  "metadata": {
    "colab": {
      "provenance": [],
      "authorship_tag": "ABX9TyO6ktepm748EXyoqk2k9OWu",
      "include_colab_link": true
    },
    "kernelspec": {
      "name": "python3",
      "display_name": "Python 3"
    },
    "language_info": {
      "name": "python"
    }
  },
  "cells": [
    {
      "cell_type": "markdown",
      "metadata": {
        "id": "view-in-github",
        "colab_type": "text"
      },
      "source": [
        "<a href=\"https://colab.research.google.com/github/DanielTc21/Variables-Aleatorias/blob/main/calculo_de_leyes_v_a.ipynb\" target=\"_parent\"><img src=\"https://colab.research.google.com/assets/colab-badge.svg\" alt=\"Open In Colab\"/></a>"
      ]
    },
    {
      "cell_type": "markdown",
      "source": [
        "## Ejemplo de la v.a. uniforme\n",
        "\n",
        "Sea el experimento aleatorio de lanzar dos dados justos:\n",
        "* $\\Omega = \\{1,2,3,4,5,6\\}\\times \\{1,2,3,4,5,6\\} $\n",
        "* $\\mathcal{F} = P(\\Omega)$\n",
        "* Para $w=(i,j)$ donde $i,j\\in\\{1,...,6\\}$ talque\n",
        "   $$\\mathbb{P}( \\ \\omega \\ )=\\frac{1}{36}$$\n",
        "\n",
        "Vamos a definir a la siguiente variable aleatoria:\n",
        "     $$S:\\Omega \\to R_{S}$$\n",
        "\n",
        "donde $R_{S}=\\{2,3,4,5,6,7,8,9,10,11,12\\}$    \n",
        "\n",
        "Para que entendamos la ley de una v.a., basta con entender los siguientes datos\n",
        "\n",
        "$$\\{(k,\\mathbb{P}(S=k))\\}_{k\\in R_{S}}$$\n",
        "\n",
        "Vamos a entender a $S$ como eventos.\n",
        "\n",
        "Sea $S_{n}$ el evento la suma de las caras es $n$.\n",
        "\n",
        "$$S_{n} = \\{(i,j)\\in\\Omega \\mid i+j =n \\} $$"
      ],
      "metadata": {
        "id": "mQuzF4gdGa6C"
      }
    },
    {
      "cell_type": "code",
      "execution_count": null,
      "metadata": {
        "id": "IRBE2CgLrzwE",
        "colab": {
          "base_uri": "https://localhost:8080/"
        },
        "outputId": "76153142-8f4b-4758-f9c5-577b227e5ac9"
      },
      "outputs": [
        {
          "output_type": "execute_result",
          "data": {
            "text/plain": [
              "(0.5555555555555556, 0.5)"
            ]
          },
          "metadata": {},
          "execution_count": 1
        }
      ],
      "source": [
        "import itertools\n",
        "\n",
        "# Posibles resultados al lanzar dos dados\n",
        "caras = list(range(1, 7))\n",
        "resultados = list(itertools.product(caras, caras))\n",
        "\n",
        "# Variable aleatoria 1: Diferencia de las caras es mayor que 1\n",
        "diferencia_mayor_que_1 = [(a, b) for a, b in resultados if abs(a - b) > 1]\n",
        "prob_diferencia_mayor_que_1 = len(diferencia_mayor_que_1) / len(resultados)\n",
        "\n",
        "# Variable aleatoria 2: La suma de las caras es par\n",
        "suma_par = [(a, b) for a, b in resultados if (a + b) % 2 == 0]\n",
        "prob_suma_par = len(suma_par) / len(resultados)\n",
        "\n",
        "prob_diferencia_mayor_que_1, prob_suma_par\n"
      ]
    },
    {
      "cell_type": "code",
      "source": [
        "from itertools import product #para el prodcuto cartesiano\n",
        "from fractions import Fraction"
      ],
      "metadata": {
        "id": "um1bTovYTGnR"
      },
      "execution_count": null,
      "outputs": []
    },
    {
      "cell_type": "code",
      "source": [
        "def Calcular_Probabilidad(A,Omega):\n",
        "   P= len(A)/len(Omega)\n",
        "   return P\n"
      ],
      "metadata": {
        "id": "qfAauC2aQ94e"
      },
      "execution_count": null,
      "outputs": []
    },
    {
      "cell_type": "markdown",
      "source": [
        "Creamos nuestro diccionario donde creamos nuestro espacio muestral de $𝜴$"
      ],
      "metadata": {
        "id": "H6WYwVxcbQW3"
      }
    },
    {
      "cell_type": "code",
      "source": [
        "Omega = product(range(1,7),repeat=2)\n",
        "Omega = set(Omega)\n",
        "Omega"
      ],
      "metadata": {
        "colab": {
          "base_uri": "https://localhost:8080/"
        },
        "id": "H1UKj-NobdWy",
        "outputId": "97abaa81-c2e4-4283-ee59-4600ff3ce48a"
      },
      "execution_count": null,
      "outputs": [
        {
          "output_type": "execute_result",
          "data": {
            "text/plain": [
              "{(1, 1),\n",
              " (1, 2),\n",
              " (1, 3),\n",
              " (1, 4),\n",
              " (1, 5),\n",
              " (1, 6),\n",
              " (2, 1),\n",
              " (2, 2),\n",
              " (2, 3),\n",
              " (2, 4),\n",
              " (2, 5),\n",
              " (2, 6),\n",
              " (3, 1),\n",
              " (3, 2),\n",
              " (3, 3),\n",
              " (3, 4),\n",
              " (3, 5),\n",
              " (3, 6),\n",
              " (4, 1),\n",
              " (4, 2),\n",
              " (4, 3),\n",
              " (4, 4),\n",
              " (4, 5),\n",
              " (4, 6),\n",
              " (5, 1),\n",
              " (5, 2),\n",
              " (5, 3),\n",
              " (5, 4),\n",
              " (5, 5),\n",
              " (5, 6),\n",
              " (6, 1),\n",
              " (6, 2),\n",
              " (6, 3),\n",
              " (6, 4),\n",
              " (6, 5),\n",
              " (6, 6)}"
            ]
          },
          "metadata": {},
          "execution_count": 15
        }
      ]
    },
    {
      "cell_type": "code",
      "source": [],
      "metadata": {
        "id": "rXlwrZPMrmi1"
      },
      "execution_count": null,
      "outputs": []
    },
    {
      "cell_type": "code",
      "source": [
        "S = {(i,j): i+j for i,j in Omega}\n",
        "S"
      ],
      "metadata": {
        "colab": {
          "base_uri": "https://localhost:8080/"
        },
        "id": "DxtPZP6EFJh8",
        "outputId": "7e955592-e962-44ff-f31a-b1bcc6cb3c35"
      },
      "execution_count": null,
      "outputs": [
        {
          "output_type": "execute_result",
          "data": {
            "text/plain": [
              "{(3, 4): 7,\n",
              " (4, 3): 7,\n",
              " (3, 1): 4,\n",
              " (5, 4): 9,\n",
              " (4, 6): 10,\n",
              " (5, 1): 6,\n",
              " (2, 2): 4,\n",
              " (1, 6): 7,\n",
              " (2, 5): 7,\n",
              " (1, 3): 4,\n",
              " (6, 2): 8,\n",
              " (6, 5): 11,\n",
              " (4, 2): 6,\n",
              " (4, 5): 9,\n",
              " (3, 3): 6,\n",
              " (5, 6): 11,\n",
              " (3, 6): 9,\n",
              " (5, 3): 8,\n",
              " (2, 4): 6,\n",
              " (1, 2): 3,\n",
              " (2, 1): 3,\n",
              " (1, 5): 6,\n",
              " (6, 1): 7,\n",
              " (6, 4): 10,\n",
              " (3, 2): 5,\n",
              " (4, 1): 5,\n",
              " (3, 5): 8,\n",
              " (5, 2): 7,\n",
              " (4, 4): 8,\n",
              " (5, 5): 10,\n",
              " (1, 1): 2,\n",
              " (1, 4): 5,\n",
              " (2, 3): 5,\n",
              " (2, 6): 8,\n",
              " (6, 6): 12,\n",
              " (6, 3): 9}"
            ]
          },
          "metadata": {},
          "execution_count": 35
        }
      ]
    },
    {
      "cell_type": "code",
      "source": [
        "#Que las diferencias de las caras sea mayor a 1\n",
        "A = {(i,j) for i,j in Omega if abs(i-j)>1}\n",
        "Calcular_Probabilidad(A,Omega)\n",
        "Probabilidad_A = Calcular_Probabilidad(A,Omega)\n",
        "print(f\"La probabilidad de que las diferencias de las caras sea mayor a 1 es igual a :{Probabilidad_A}\")\n"
      ],
      "metadata": {
        "colab": {
          "base_uri": "https://localhost:8080/"
        },
        "id": "MLiUKyuLdenk",
        "outputId": "8a240aa6-5936-4b42-c198-c0fac28bc6e5"
      },
      "execution_count": null,
      "outputs": [
        {
          "output_type": "stream",
          "name": "stdout",
          "text": [
            "La probabilidad de que las diferencias de las caras sea mayor a 1 es igual a :0.5555555555555556\n"
          ]
        }
      ]
    },
    {
      "cell_type": "code",
      "source": [
        "#Ahora calculamos que la suma de las caras sea par\n",
        "B = {(i,j) for i,j in Omega if (i+j)%2==0}\n",
        "Calcular_Probabilidad(B,Omega)\n",
        "Probabilidad_B = Calcular_Probabilidad(B,Omega)\n",
        "print(f\"La probabilidad de que la suma de las caras sea par es igual a :{Probabilidad_B}\")"
      ],
      "metadata": {
        "colab": {
          "base_uri": "https://localhost:8080/"
        },
        "id": "1Tw6jkoTjkXF",
        "outputId": "a5a19a5d-4536-4a54-8458-722536bbb8ee"
      },
      "execution_count": null,
      "outputs": [
        {
          "output_type": "stream",
          "name": "stdout",
          "text": [
            "La probabilidad de que la suma de las caras sea par es igual a :0.5\n"
          ]
        }
      ]
    },
    {
      "cell_type": "markdown",
      "source": [
        "Para verificar que en cada caso la $\\mathbb{P}=1$ comprobamos lo siguiente\n",
        "\n",
        "$$\\sum_{k\\in R_{X}}\\mathbb{P}(X=k) = 1$$\n",
        "\n",
        "Por lo que debemos calcular los eventos complementarios para cada caso\n",
        "\n",
        "1. Que las diferencia de las caras sea menor o igual a 1\n",
        "2. Que la suma de las caras sea impar"
      ],
      "metadata": {
        "id": "8tTz8QUJQ-Tl"
      }
    },
    {
      "cell_type": "code",
      "source": [
        "##CASO 1\n",
        "#Complemento: La diferencia de las caras sea menor o igual a 1\n",
        "A_complemento = {(i,j) for i,j in Omega if abs(i-j)<=1}\n",
        "Calcular_Probabilidad(A_complemento,Omega)\n",
        "Probabilidad_A_Complemento= Calcular_Probabilidad(A_complemento,Omega)\n",
        "print(f\"La probabilidad de que las diferencias de las caras sea menor o igual a 1 es igual a: {Probabilidad_A_Complemento}\")"
      ],
      "metadata": {
        "colab": {
          "base_uri": "https://localhost:8080/"
        },
        "id": "uHsO-Pgxm_XO",
        "outputId": "dcfb9606-222f-4aa0-80b4-cc5f06956240"
      },
      "execution_count": null,
      "outputs": [
        {
          "output_type": "stream",
          "name": "stdout",
          "text": [
            "La probabilidad de que las diferencias de las caras sea menor o igual a 1 es igual a: 0.4444444444444444\n"
          ]
        }
      ]
    },
    {
      "cell_type": "code",
      "source": [
        "##CASO 2\n",
        "#Complemento: La suma de las caras sea impar\n",
        "B_complemento = {(i,j) for i,j in Omega if (i+j)%2!=0}\n",
        "Calcular_Probabilidad(B_complemento,Omega)\n",
        "Probabilidad_B_Complemento= Calcular_Probabilidad(B_complemento,Omega)\n",
        "print(f\"La probabilidad de que la suma de las caras sea impar es igual a: {Probabilidad_B_Complemento}\")"
      ],
      "metadata": {
        "colab": {
          "base_uri": "https://localhost:8080/"
        },
        "id": "dEQnZhs1odEK",
        "outputId": "0cc8adf1-83bb-42ae-9c32-bf858f7dafac"
      },
      "execution_count": null,
      "outputs": [
        {
          "output_type": "stream",
          "name": "stdout",
          "text": [
            "La probabilidad de que la suma de las caras sea impar es igual a: 0.5\n"
          ]
        }
      ]
    },
    {
      "cell_type": "code",
      "source": [
        "#Comprobamos que la probabilidad para ambos casos sea = 1\n",
        "\n",
        "#Caso 1\n",
        "Probabilidad_A+Probabilidad_A_Complemento"
      ],
      "metadata": {
        "colab": {
          "base_uri": "https://localhost:8080/"
        },
        "id": "_GoOVwewpU4I",
        "outputId": "ec20f90b-700c-46ba-959c-bca13dccf7f6"
      },
      "execution_count": null,
      "outputs": [
        {
          "output_type": "execute_result",
          "data": {
            "text/plain": [
              "1.0"
            ]
          },
          "metadata": {},
          "execution_count": 31
        }
      ]
    },
    {
      "cell_type": "code",
      "source": [
        "#Caso 2\n",
        "Probabilidad_B+Probabilidad_B_Complemento"
      ],
      "metadata": {
        "colab": {
          "base_uri": "https://localhost:8080/"
        },
        "id": "eqClffbgpuYu",
        "outputId": "ae36091c-ae39-496f-91e1-ebb5ddfbb68c"
      },
      "execution_count": null,
      "outputs": [
        {
          "output_type": "execute_result",
          "data": {
            "text/plain": [
              "1.0"
            ]
          },
          "metadata": {},
          "execution_count": 32
        }
      ]
    },
    {
      "cell_type": "markdown",
      "source": [
        "Ambas suman correctamente 1, lo que confirma que las distribuciones de probabilidad están bien definidas."
      ],
      "metadata": {
        "id": "hPrbEnQQqM-0"
      }
    },
    {
      "cell_type": "markdown",
      "source": [
        "Gráficamos y calculamos la función de distribución de la v.a. $S$ (la suma de los resultados es n)"
      ],
      "metadata": {
        "id": "DW2t29qCu65E"
      }
    },
    {
      "cell_type": "code",
      "source": [
        "# Calcular la distribución de probabilidad de la variable aleatoria S\n",
        "valores_unicos = set(S.values())\n",
        "frecuencias = {valor: list(S.values()).count(valor) for valor in valores_unicos}"
      ],
      "metadata": {
        "id": "W25L0fPFuUaS"
      },
      "execution_count": null,
      "outputs": []
    },
    {
      "cell_type": "code",
      "source": [
        "# Convertir frecuencias a probabilidades\n",
        "total_eventos = len(Omega)\n",
        "probabilidades = {valor: frecuencia / total_eventos for valor, frecuencia in frecuencias.items()}"
      ],
      "metadata": {
        "id": "zbI274IJu5rH"
      },
      "execution_count": null,
      "outputs": []
    },
    {
      "cell_type": "code",
      "source": [
        "# 4. Graficar la función de distribución\n",
        "import matplotlib.pyplot as plt\n",
        "\n",
        "plt.bar(probabilidades.keys(), probabilidades.values(), color='skyblue', edgecolor='black')\n",
        "plt.xlabel('Suma de los resultados (S)')\n",
        "plt.ylabel('Probabilidad')\n",
        "plt.title('Función de Distribución de la Suma de Dos Dados')\n",
        "plt.xticks(list(valores_unicos))\n",
        "plt.grid(True)\n",
        "plt.show()\n"
      ],
      "metadata": {
        "colab": {
          "base_uri": "https://localhost:8080/",
          "height": 472
        },
        "id": "AyGURRhOs166",
        "outputId": "bc669f43-bdd4-45b0-ce36-de9aab5ce49c"
      },
      "execution_count": null,
      "outputs": [
        {
          "output_type": "display_data",
          "data": {
            "text/plain": [
              "<Figure size 640x480 with 1 Axes>"
            ],
            "image/png": "[encoded data removed]"
          },
          "metadata": {}
        }
      ]
    },
    {
      "cell_type": "code",
      "source": [],
      "metadata": {
        "id": "GgvmzcV2tMnA"
      },
      "execution_count": null,
      "outputs": []
    }
  ]
}